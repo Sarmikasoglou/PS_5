{
 "cells": [
  {
   "cell_type": "code",
   "execution_count": 41,
   "metadata": {},
   "outputs": [],
   "source": [
    "from sqlalchemy import create_engine\n",
    "from sqlalchemy import MetaData\n",
    "from sqlalchemy import Table, Column\n",
    "from sqlalchemy import Integer, String\n",
    "from sqlalchemy import sql, select, join, desc\n",
    "\n",
    "# Create a Engine object which is our handle into the database.\n",
    "engine = create_engine('sqlite:///../world.sqlite')\n",
    "\n",
    "# Connect to the database\n",
    "conn = engine.connect()\n",
    "\n",
    "# Read the metadata from the existing database.\n",
    "#  Since the database already exists and has tables defined, we can create Python objects based on these automatically.\n",
    "DBInfo=MetaData(engine)"
   ]
  },
  {
   "cell_type": "code",
   "execution_count": 49,
   "metadata": {},
   "outputs": [
    {
     "name": "stdout",
     "output_type": "stream",
     "text": [
      "('Palau', 1994)\n"
     ]
    }
   ],
   "source": [
    "#Question 1 (5 points):\n",
    "# What is the country with the latest year (most recent) of independence?\n",
    "## Palau\n",
    "\n",
    "#Provide your answer (2 points) and the code used to get that answer (3 points). #The code can either be SQL or SQLAlchemy code.\n",
    "\n",
    "#Gives the country with the LATEST independece year : SELECT Name, IndepYear FROM country ORDER BY IndepYear DESC LIMIT 1;\n",
    "# Auto-create the country object basedon the metadata read into the DBInfo.\n",
    "country=Table('country', DBInfo, autoload=True)\n",
    "\n",
    "# Mirroring this command: SELECT Id, Name, Population FROM country LIMIT 10;\n",
    "query=select([country.c.Name, country.c.IndepYear])\\\n",
    "             .order_by(desc(country.c.IndepYear))\\\n",
    "             .limit(1)\n",
    "result = conn.execute(query)\n",
    "for row in result:\n",
    "    print(row)"
   ]
  },
  {
   "cell_type": "code",
   "execution_count": null,
   "metadata": {},
   "outputs": [],
   "source": [
    "#Question 2 (5 points):\n",
    "#Refer to this page: https://www.statista.com/chart/11430/the-worlds-youngest-countries/ (Links to an external site.)\n",
    "\n",
    "#According to this, there are several countries that have become independent since the country in your answer to question 1.\n",
    "\n",
    "#Pick one of those newer countries and using Wikipedia, or another source, add as much data to the country table as you can for that country.\n",
    "#Do not spend a lot of time trying to find all the data. One or two additional items beyond Name and IndepYear is fine.\n",
    "#Provide either a SQL INSERT statement or a SQLAlchemy insert statement to add the data for a new country into the database.\n",
    "\n",
    "#Insert DATA for South Sudan : PRAGMA foreign_keys = ON; \n",
    "#INSERT INTO 'country' VALUES ('SSO','South Sudan', 'Africa', 'East-Central Africa', '619745', '2011', '12000000', '-','-','-','-','-','-','-','-');\n"
   ]
  },
  {
   "cell_type": "code",
   "execution_count": 51,
   "metadata": {},
   "outputs": [
    {
     "name": "stdout",
     "output_type": "stream",
     "text": [
      "INSERT INTO country (\"Code\", \"Name\", \"Continent\", \"Region\", \"SurfaceArea\", \"IndepYear\", \"Population\", \"LifeExpectancy\", \"GNP\", \"GNPOld\", \"LocalName\", \"GovernmentForm\", \"HeadOfState\", \"Capital\", \"Code2\") VALUES (?, ?, ?, ?, ?, ?, ?, ?, ?, ?, ?, ?, ?, ?, ?)\n"
     ]
    }
   ],
   "source": [
    "print(country.insert())"
   ]
  },
  {
   "cell_type": "code",
   "execution_count": 52,
   "metadata": {},
   "outputs": [
    {
     "name": "stdout",
     "output_type": "stream",
     "text": [
      "INSERT INTO country (\"Code\", \"Name\", \"Continent\", \"Region\", \"SurfaceArea\", \"IndepYear\", \"Population\") VALUES (?, ?, ?, ?, ?, ?, ?)\n"
     ]
    }
   ],
   "source": [
    "#Insert DATA for South Sudan\n",
    "SUDAN_insert=country.insert().values(Code='SSO', Name='South Sudan', Continent='Africa', Region='East-Central Africa', SurfaceArea='619745',IndepYear='2011', Population=12000000)\n",
    "print(SUDAN_insert)"
   ]
  },
  {
   "cell_type": "code",
   "execution_count": 53,
   "metadata": {},
   "outputs": [],
   "source": [
    "SUDAN = conn.execute(SUDAN_insert)"
   ]
  },
  {
   "cell_type": "code",
   "execution_count": 54,
   "metadata": {},
   "outputs": [
    {
     "name": "stdout",
     "output_type": "stream",
     "text": [
      "('South Sudan', 2011, 12000000)\n"
     ]
    }
   ],
   "source": [
    "query=select([country.c.Name, country.c.IndepYear, country.c.Population]).where(country.c.Name.like('South Sudan%'))\n",
    "result = conn.execute(query)\n",
    "for row in result:\n",
    "    print(row)"
   ]
  },
  {
   "cell_type": "code",
   "execution_count": 56,
   "metadata": {},
   "outputs": [],
   "source": [
    "#Question 3 (5 points):\n",
    "#For the country added in question 2, find 2 cities to add to the cities table of the database and provide the SQL or SQLAlchemy insert statement to add this data.\n",
    "\n",
    "#PRAGMA foreign_keys = ON;\n",
    "#INSERT INTO `city` VALUES (4080, 'Abyei','SS', 'Abyei Area', '20000');\n",
    "#INSERT INTO `city` VALUES (4081, 'Aweil', 'SS', 'Aweil State', '100000');\n",
    "\n",
    "# Auto-create the country object basedon the metadata read into the DBInfo.\n",
    "city=Table('city', DBInfo, autoload=True)\n",
    "\n"
   ]
  },
  {
   "cell_type": "code",
   "execution_count": 57,
   "metadata": {},
   "outputs": [
    {
     "name": "stdout",
     "output_type": "stream",
     "text": [
      "INSERT INTO city (\"ID\", \"Name\", \"CountryCode\", \"District\", \"Population\") VALUES (?, ?, ?, ?, ?)\n"
     ]
    }
   ],
   "source": [
    "print(city.insert())"
   ]
  },
  {
   "cell_type": "code",
   "execution_count": 61,
   "metadata": {},
   "outputs": [
    {
     "name": "stdout",
     "output_type": "stream",
     "text": [
      "INSERT INTO city (\"ID\", \"Name\", \"CountryCode\", \"District\", \"Population\") VALUES (?, ?, ?, ?, ?)\n",
      "INSERT INTO city (\"ID\", \"Name\", \"CountryCode\", \"District\", \"Population\") VALUES (?, ?, ?, ?, ?)\n"
     ]
    }
   ],
   "source": [
    "#Insert DATA for South Sudan cities\n",
    "SUDAN_CITY_1_insert=city.insert().values(ID='4080',Name='Abyei',CountryCode='SSO', District='Abyei Area', Population=20000)\n",
    "SUDAN_CITY_2_insert=city.insert().values(ID='4081',Name='Aweil',CountryCode='SSO', District='Aweil State', Population=100000)\n",
    "\n",
    "print(SUDAN_CITY_1_insert)\n",
    "print(SUDAN_CITY_2_insert)"
   ]
  },
  {
   "cell_type": "code",
   "execution_count": 62,
   "metadata": {},
   "outputs": [],
   "source": [
    "SUDAN_CITY_1 = conn.execute(SUDAN_CITY_1_insert)\n",
    "SUDAN_CITY_2 = conn.execute(SUDAN_CITY_2_insert)"
   ]
  },
  {
   "cell_type": "code",
   "execution_count": 63,
   "metadata": {},
   "outputs": [
    {
     "name": "stdout",
     "output_type": "stream",
     "text": [
      "(4080, 'Abyei', 'Abyei Area', 20000)\n",
      "(4081, 'Aweil', 'Aweil State', 100000)\n"
     ]
    }
   ],
   "source": [
    "query=select([city.c.ID, city.c.Name, city.c.District, city.c.Population]).where(city.c.Name.like('Abyei%'))\n",
    "result = conn.execute(query)\n",
    "for row in result:\n",
    "    print(row)\n",
    "    \n",
    "query=select([city.c.ID, city.c.Name, city.c.District, city.c.Population]).where(city.c.Name.like('Aweil%'))\n",
    "result = conn.execute(query)\n",
    "for row in result:\n",
    "    print(row)"
   ]
  },
  {
   "cell_type": "code",
   "execution_count": 68,
   "metadata": {},
   "outputs": [],
   "source": [
    "#Question 4 (5 points):\n",
    "#Grad Students Only; Undergrads get 5 points free, but can earn 5 points extra credit points for doing this question\n",
    "#Using the LifeExpectancy data in the country table on the y-axis, plot this data against some other value.\n",
    "\n",
    "#Suggestions for the x-axis: GNP, Population or IndepYear could be interesting, but up to you.\n",
    "#I'd suggest using SQLAlchemy, get the data and make either a dataframe or numpy arrays and then use matplotlib to plot.\n",
    "\n",
    "import pandas as pd\n",
    "import sqlite3\n",
    "\n",
    "# Read in SQLite databases\n",
    "con = sqlite3.connect(\"/home/sarmikasoglou.ef/world.sqlite\")\n",
    "\n",
    "#Read the Table\n",
    "DATA = pd.read_sql_query(\"SELECT LifeExpectancy, GNP from country\", con)\n",
    "\n",
    "#close the connection\n",
    "con.close()\n"
   ]
  },
  {
   "cell_type": "code",
   "execution_count": 69,
   "metadata": {},
   "outputs": [
    {
     "name": "stdout",
     "output_type": "stream",
     "text": [
      "     LifeExpectancy       GNP\n",
      "0              78.4     828.0\n",
      "1              45.9    5976.0\n",
      "2              38.3    6648.0\n",
      "3              76.1      63.2\n",
      "4              71.6    3205.0\n",
      "..              ...       ...\n",
      "235            72.4   17000.0\n",
      "236            51.1  116729.0\n",
      "237            37.2    3377.0\n",
      "238            37.8    5951.0\n",
      "239             NaN       NaN\n",
      "\n",
      "[240 rows x 2 columns]\n"
     ]
    }
   ],
   "source": [
    "print(DATA)\n",
    "#print(DATA.describe())"
   ]
  },
  {
   "cell_type": "code",
   "execution_count": 70,
   "metadata": {},
   "outputs": [
    {
     "data": {
      "text/plain": [
       "<AxesSubplot:xlabel='GNP', ylabel='LifeExpectancy'>"
      ]
     },
     "execution_count": 70,
     "metadata": {},
     "output_type": "execute_result"
    },
    {
     "data": {
      "image/png": "[encoded data removed]",
      "text/plain": [
       "<Figure size 432x288 with 1 Axes>"
      ]
     },
     "metadata": {
      "needs_background": "light"
     },
     "output_type": "display_data"
    }
   ],
   "source": [
    "import numpy\n",
    "import matplotlib.pyplot as plt\n",
    "\n",
    "DATA.plot.scatter(x='GNP', \n",
    "                  y='LifeExpectancy')"
   ]
  },
  {
   "cell_type": "code",
   "execution_count": null,
   "metadata": {},
   "outputs": [],
   "source": []
  }
 ],
 "metadata": {
  "kernelspec": {
   "display_name": "Python 3.8 (basic)",
   "language": "python",
   "name": "python3"
  },
  "language_info": {
   "codemirror_mode": {
    "name": "ipython",
    "version": 3
   },
   "file_extension": ".py",
   "mimetype": "text/x-python",
   "name": "python",
   "nbconvert_exporter": "python",
   "pygments_lexer": "ipython3",
   "version": "3.8.1"
  }
 },
 "nbformat": 4,
 "nbformat_minor": 4
}
